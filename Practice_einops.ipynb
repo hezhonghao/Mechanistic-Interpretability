{
  "nbformat": 4,
  "nbformat_minor": 0,
  "metadata": {
    "colab": {
      "provenance": []
    },
    "kernelspec": {
      "name": "python3",
      "display_name": "Python 3"
    },
    "language_info": {
      "name": "python"
    }
  },
  "cells": [
    {
      "cell_type": "code",
      "execution_count": null,
      "metadata": {
        "colab": {
          "base_uri": "https://localhost:8080/"
        },
        "id": "tznP1YXitfaM",
        "outputId": "1d918447-b9b1-438e-a782-1c10b5b25ec3"
      },
      "outputs": [
        {
          "output_type": "stream",
          "name": "stdout",
          "text": [
            "Running as a Colab notebook\n",
            "Collecting fancy_einsum\n",
            "  Downloading fancy_einsum-0.0.3-py3-none-any.whl (6.2 kB)\n",
            "Installing collected packages: fancy_einsum\n",
            "Successfully installed fancy_einsum-0.0.3\n",
            "Collecting einops\n",
            "  Downloading einops-0.6.1-py3-none-any.whl (42 kB)\n",
            "\u001b[2K     \u001b[90m━━━━━━━━━━━━━━━━━━━━━━━━━━━━━━━━━━━━━━━\u001b[0m \u001b[32m42.2/42.2 kB\u001b[0m \u001b[31m827.8 kB/s\u001b[0m eta \u001b[36m0:00:00\u001b[0m\n",
            "\u001b[?25hInstalling collected packages: einops\n",
            "Successfully installed einops-0.6.1\n"
          ]
        }
      ],
      "source": [
        "try:\n",
        "  import google.colab\n",
        "  IN_COLAB = True\n",
        "  print(\"Running as a Colab notebook\")\n",
        "\n",
        "  %pip install fancy_einsum\n",
        "  %pip install einops\n",
        "  # %pip install utils # This is simply a wrong utils to import. I'll uninstall it from the environ later to avoid confusion.\n",
        "except:\n",
        "  IN_COLAB = False\n",
        "  print(\"Running as a Jupyter notebook - intended for development only!\")"
      ]
    },
    {
      "cell_type": "code",
      "source": [
        "import numpy as np\n",
        "import torch\n",
        "import einops\n",
        "from fancy_einsum import einsum\n"
      ],
      "metadata": {
        "id": "0o6yNl4Ntsne"
      },
      "execution_count": null,
      "outputs": []
    },
    {
      "cell_type": "markdown",
      "source": [
        "# High-level thoughts\n",
        "Can Einops do anything that Einsum can not?\n",
        "- A priori: It seems to me taht Einsum can do most of them, except some repeat operations etc\n",
        "- Einsum in essence is an oneliner that replaces all operations about changing dims, doing summations.\n",
        "\n"
      ],
      "metadata": {
        "id": "eunomoXpuAMG"
      }
    },
    {
      "cell_type": "code",
      "source": [
        "# Einops opeartion  https://medium.com/ml-summaries/einops-making-tensor-ops-easy-in-deep-learning-236d2a1dc631\n",
        "\n",
        "# Rearrange --> I guess this part is the same as einsum?\n",
        "from einops import rearrange\n",
        "x = np.random.randn(100,32,24)\n",
        "\n",
        "# To less dims\n",
        "A = rearrange(x, \"a b c -> (a b) c\")\n",
        "print('A:',A.shape)\n",
        "\n",
        "# To more dims\n",
        "B = rearrange(x,\"(a1 a2) b c ->a1 a2 b c\", a1=25)\n",
        "print(\"B:\", B.shape)\n",
        "\n",
        "# Reduce (always, if not all, is to cal the mean)\n",
        "from einops import reduce\n",
        "C = reduce(x, \"a b c -> a b\", \"mean\")\n",
        "# C = einsum(\"a b c -> a b ()\", x, \"mean\")  This does not hold in einsum. mean is done with einops\n",
        "print(\"C:\", C.shape)\n",
        "\n",
        "# Repeat --> A way to expand a dim. The tricky part is tho, how do you actually fill in those new dims. Diff from rearrage that you break down some dims into more; \"repeat\" method simply\n",
        "from einops import repeat\n",
        "D = repeat(x, \"a b c -> h a b c\", h=5)\n",
        "print(\"D:\",D.shape)"
      ],
      "metadata": {
        "id": "rBoZwpvut62Q",
        "colab": {
          "base_uri": "https://localhost:8080/"
        },
        "outputId": "2a6d4a95-56a1-4ae8-a62f-62794c19777e"
      },
      "execution_count": null,
      "outputs": [
        {
          "output_type": "stream",
          "name": "stdout",
          "text": [
            "A: (3200, 24)\n",
            "B: (25, 4, 32, 24)\n",
            "C: (100, 32)\n",
            "D: (5, 100, 32, 24)\n"
          ]
        }
      ]
    },
    {
      "cell_type": "code",
      "source": [
        "# Playing some rearranging images game w/ Einops https://github.com/arogozhnikov/einops/blob/master/docs/1-einops-basics.ipynb\n",
        "\n",
        "# Download images from Github\n",
        "!wget https://github.com/arogozhnikov/einops/raw/master/docs/resources/test_images.npy\n"
      ],
      "metadata": {
        "colab": {
          "base_uri": "https://localhost:8080/"
        },
        "id": "kGGbwezKV1f4",
        "outputId": "14fe6e1f-e589-4d8d-c921-750505def3a0"
      },
      "execution_count": null,
      "outputs": [
        {
          "output_type": "stream",
          "name": "stdout",
          "text": [
            "--2023-08-04 08:35:35--  https://github.com/arogozhnikov/einops/raw/master/docs/resources/test_images.npy\n",
            "Resolving github.com (github.com)... 192.30.255.113\n",
            "Connecting to github.com (github.com)|192.30.255.113|:443... connected.\n",
            "HTTP request sent, awaiting response... 302 Found\n",
            "Location: https://raw.githubusercontent.com/arogozhnikov/einops/master/docs/resources/test_images.npy [following]\n",
            "--2023-08-04 08:35:35--  https://raw.githubusercontent.com/arogozhnikov/einops/master/docs/resources/test_images.npy\n",
            "Resolving raw.githubusercontent.com (raw.githubusercontent.com)... 185.199.108.133, 185.199.109.133, 185.199.110.133, ...\n",
            "Connecting to raw.githubusercontent.com (raw.githubusercontent.com)|185.199.108.133|:443... connected.\n",
            "HTTP request sent, awaiting response... 200 OK\n",
            "Length: 1327232 (1.3M) [application/octet-stream]\n",
            "Saving to: ‘test_images.npy’\n",
            "\n",
            "test_images.npy     100%[===================>]   1.27M  --.-KB/s    in 0.03s   \n",
            "\n",
            "2023-08-04 08:35:35 (41.0 MB/s) - ‘test_images.npy’ saved [1327232/1327232]\n",
            "\n"
          ]
        }
      ]
    },
    {
      "cell_type": "code",
      "source": [
        "# Access data via NumPy\n",
        "ims = np.load('test_images.npy') # np.load produces a variable by loading the data\n",
        "print(ims.shape, ims.dtype)"
      ],
      "metadata": {
        "colab": {
          "base_uri": "https://localhost:8080/"
        },
        "id": "TFdL2pY6j31s",
        "outputId": "f42a79fd-35e9-4d8f-a061-f35c45fb172e"
      },
      "execution_count": null,
      "outputs": [
        {
          "output_type": "stream",
          "name": "stdout",
          "text": [
            "(6, 96, 96, 3) float64\n"
          ]
        }
      ]
    },
    {
      "cell_type": "code",
      "source": [
        "# Load the images to play with\n",
        "\n",
        "ims[0] # Here we can see we load numpy arrays, but we want to take a look of pics (alternatively you may use standard lib for sure) by loading the utils specifed by the author."
      ],
      "metadata": {
        "colab": {
          "base_uri": "https://localhost:8080/",
          "height": 113
        },
        "id": "eqt5xUYVkbBQ",
        "outputId": "658f9852-f580-4890-cf82-b9960818daae"
      },
      "execution_count": null,
      "outputs": [
        {
          "output_type": "execute_result",
          "data": {
            "text/plain": [],
            "image/png": "[encoded data removed]"
          },
          "metadata": {},
          "execution_count": 15
        }
      ]
    },
    {
      "cell_type": "code",
      "source": [
        "# Uninstall previous utils\n",
        "!pip uninstall -y utils"
      ],
      "metadata": {
        "colab": {
          "base_uri": "https://localhost:8080/"
        },
        "id": "IGW3BDGKpaB3",
        "outputId": "5dbf98ec-6d17-487a-e890-08176b0a8ab2"
      },
      "execution_count": null,
      "outputs": [
        {
          "output_type": "stream",
          "name": "stdout",
          "text": [
            "\u001b[33mWARNING: Skipping utils as it is not installed.\u001b[0m\u001b[33m\n",
            "\u001b[0m"
          ]
        }
      ]
    },
    {
      "cell_type": "code",
      "source": [
        "# Load the utils on https://github.com/arogozhnikov/einops/tree/master/docs/utils\n",
        "\n",
        "# Clone the reporsitory\n",
        "!git clone https://github.com/arogozhnikov/einops.git\n",
        "\n",
        "# Navigate to the directory\n",
        "# %cd einops/docs\n",
        "import sys\n",
        "sys.path.append('/content/einops/docs')\n",
        "\n",
        "# Verify whether the utils is here\n",
        "!ls /content/einops/docs\n",
        "\n"
      ],
      "metadata": {
        "colab": {
          "base_uri": "https://localhost:8080/"
        },
        "id": "7kwjJtjomteD",
        "outputId": "c09b49aa-22c4-4710-8d80-b05031c2512a"
      },
      "execution_count": null,
      "outputs": [
        {
          "output_type": "stream",
          "name": "stdout",
          "text": [
            "Cloning into 'einops'...\n",
            "remote: Enumerating objects: 3160, done.\u001b[K\n",
            "remote: Counting objects: 100% (1091/1091), done.\u001b[K\n",
            "remote: Compressing objects: 100% (347/347), done.\u001b[K\n",
            "remote: Total 3160 (delta 728), reused 892 (delta 672), pack-reused 2069\u001b[K\n",
            "Receiving objects: 100% (3160/3160), 6.20 MiB | 10.77 MiB/s, done.\n",
            "Resolving deltas: 100% (1859/1859), done.\n",
            "1-einops-basics.ipynb\t\t  4-pack-and-unpack.ipynb  resources\n",
            "2-einops-for-deep-learning.ipynb  pytorch-examples.html    source_examples\n",
            "3-einmix-layer.ipynb\t\t  README.md\t\t   utils\n"
          ]
        }
      ]
    },
    {
      "cell_type": "code",
      "source": [
        "# import the function\n",
        "from utils import display_np_arrays_as_images\n",
        "# Using the function\n",
        "display_np_arrays_as_images()\n"
      ],
      "metadata": {
        "id": "_bPuK0RkrJp1"
      },
      "execution_count": null,
      "outputs": []
    },
    {
      "cell_type": "code",
      "source": [
        "# Load the images\n",
        "\n",
        "# Change the working directory\n",
        "import os\n",
        "os.chdir('/content')\n",
        "ims = np.load('/content/test_images.npy', allow_pickle=False)\n",
        "print(ims.shape, ims.dtype)\n",
        "print(ims[0].shape, ims[0].dtype)"
      ],
      "metadata": {
        "colab": {
          "base_uri": "https://localhost:8080/"
        },
        "id": "0MdSn70ysSGD",
        "outputId": "dad52281-1d65-4acf-a87c-f65502eae91d"
      },
      "execution_count": null,
      "outputs": [
        {
          "output_type": "stream",
          "name": "stdout",
          "text": [
            "(6, 96, 96, 3) float64\n",
            "(96, 96, 3) float64\n"
          ]
        }
      ]
    },
    {
      "cell_type": "code",
      "source": [
        "# Take a look at images\n",
        "\n",
        "# 1st image\n",
        "ims[0]"
      ],
      "metadata": {
        "colab": {
          "base_uri": "https://localhost:8080/",
          "height": 113
        },
        "id": "ZHGAMBzitYNj",
        "outputId": "37fa1876-f6e6-4dfa-b362-95b86a615db1"
      },
      "execution_count": null,
      "outputs": [
        {
          "output_type": "execute_result",
          "data": {
            "text/plain": [],
            "image/png": "[encoded data removed]"
          },
          "metadata": {},
          "execution_count": 16
        }
      ]
    },
    {
      "cell_type": "code",
      "source": [
        "# 2nd image\n",
        "ims[1]"
      ],
      "metadata": {
        "colab": {
          "base_uri": "https://localhost:8080/",
          "height": 113
        },
        "id": "ufNnmVostik4",
        "outputId": "9fc94881-e49e-423c-d0f2-d2350b118ba9"
      },
      "execution_count": null,
      "outputs": [
        {
          "output_type": "execute_result",
          "data": {
            "text/plain": [],
            "image/png": "[encoded data removed]"
          },
          "metadata": {},
          "execution_count": 17
        }
      ]
    },
    {
      "cell_type": "code",
      "source": [
        "ims[2]"
      ],
      "metadata": {
        "colab": {
          "base_uri": "https://localhost:8080/",
          "height": 113
        },
        "id": "jInCCESitliZ",
        "outputId": "c580d579-b45a-4199-dadd-5b065156a30f"
      },
      "execution_count": null,
      "outputs": [
        {
          "output_type": "execute_result",
          "data": {
            "text/plain": [],
            "image/png": "[encoded data removed]"
          },
          "metadata": {},
          "execution_count": 18
        }
      ]
    },
    {
      "cell_type": "code",
      "source": [
        "ims[3]"
      ],
      "metadata": {
        "colab": {
          "base_uri": "https://localhost:8080/",
          "height": 113
        },
        "id": "7291grO_tnmr",
        "outputId": "46b0236f-4839-490e-ef15-e7cd776abbfc"
      },
      "execution_count": null,
      "outputs": [
        {
          "output_type": "execute_result",
          "data": {
            "text/plain": [],
            "image/png": "[encoded data removed]"
          },
          "metadata": {},
          "execution_count": 19
        }
      ]
    },
    {
      "cell_type": "code",
      "source": [
        "ims[4]"
      ],
      "metadata": {
        "colab": {
          "base_uri": "https://localhost:8080/",
          "height": 113
        },
        "id": "9f_PhTqMtqn7",
        "outputId": "6e1702fd-1e81-4afc-9fa3-3a8071037c16"
      },
      "execution_count": null,
      "outputs": [
        {
          "output_type": "execute_result",
          "data": {
            "text/plain": [],
            "image/png": "[encoded data removed]"
          },
          "metadata": {},
          "execution_count": 20
        }
      ]
    },
    {
      "cell_type": "code",
      "source": [
        "ims[5]"
      ],
      "metadata": {
        "colab": {
          "base_uri": "https://localhost:8080/",
          "height": 113
        },
        "id": "T_NyOD5xtsd4",
        "outputId": "40bb771e-36bd-4756-ab30-4eb14b060a63"
      },
      "execution_count": null,
      "outputs": [
        {
          "output_type": "execute_result",
          "data": {
            "text/plain": [],
            "image/png": "[encoded data removed]"
          },
          "metadata": {},
          "execution_count": 21
        }
      ]
    },
    {
      "cell_type": "code",
      "source": [
        "# The game is on. Let's play some einops code\n",
        "from einops import rearrange, reduce, repeat"
      ],
      "metadata": {
        "id": "AGAhnCyNtvuf"
      },
      "execution_count": null,
      "outputs": []
    },
    {
      "cell_type": "code",
      "source": [
        "# transpose the first 2 dims\n",
        "rearrange(ims[0], 'h w c -> w h c')"
      ],
      "metadata": {
        "colab": {
          "base_uri": "https://localhost:8080/",
          "height": 113
        },
        "id": "NUk08k9Vt6dt",
        "outputId": "9e659b0a-f35e-47ec-f802-5782be06f829"
      },
      "execution_count": null,
      "outputs": [
        {
          "output_type": "execute_result",
          "data": {
            "text/plain": [],
            "image/png": "[encoded data removed]"
          },
          "metadata": {},
          "execution_count": 23
        }
      ]
    },
    {
      "cell_type": "code",
      "source": [
        "# transpose the last 2 dims\n",
        "rearrange(ims[0], 'h w c -> h c w')\n",
        "# This is very interesting. In theory this type of transformation should be allowed. But in reality it does not work probably bc the data handling tools in this context (whatever they are) don't allow such image dims."
      ],
      "metadata": {
        "colab": {
          "base_uri": "https://localhost:8080/",
          "height": 457
        },
        "id": "Bci8kvmCz1Qk",
        "outputId": "d9988b9f-dc72-4752-b01f-011f2c44bbd9"
      },
      "execution_count": null,
      "outputs": [
        {
          "output_type": "error",
          "ename": "TypeError",
          "evalue": "ignored",
          "traceback": [
            "\u001b[0;31m---------------------------------------------------------------------------\u001b[0m",
            "\u001b[0;31mKeyError\u001b[0m                                  Traceback (most recent call last)",
            "\u001b[0;32m/usr/local/lib/python3.10/dist-packages/PIL/Image.py\u001b[0m in \u001b[0;36mfromarray\u001b[0;34m(obj, mode)\u001b[0m\n\u001b[1;32m   3079\u001b[0m         \u001b[0;32mtry\u001b[0m\u001b[0;34m:\u001b[0m\u001b[0;34m\u001b[0m\u001b[0;34m\u001b[0m\u001b[0m\n\u001b[0;32m-> 3080\u001b[0;31m             \u001b[0mmode\u001b[0m\u001b[0;34m,\u001b[0m \u001b[0mrawmode\u001b[0m \u001b[0;34m=\u001b[0m \u001b[0m_fromarray_typemap\u001b[0m\u001b[0;34m[\u001b[0m\u001b[0mtypekey\u001b[0m\u001b[0;34m]\u001b[0m\u001b[0;34m\u001b[0m\u001b[0;34m\u001b[0m\u001b[0m\n\u001b[0m\u001b[1;32m   3081\u001b[0m         \u001b[0;32mexcept\u001b[0m \u001b[0mKeyError\u001b[0m \u001b[0;32mas\u001b[0m \u001b[0me\u001b[0m\u001b[0;34m:\u001b[0m\u001b[0;34m\u001b[0m\u001b[0;34m\u001b[0m\u001b[0m\n",
            "\u001b[0;31mKeyError\u001b[0m: ((1, 1, 96), '|u1')",
            "\nThe above exception was the direct cause of the following exception:\n",
            "\u001b[0;31mTypeError\u001b[0m                                 Traceback (most recent call last)",
            "\u001b[0;32m/usr/local/lib/python3.10/dist-packages/IPython/core/formatters.py\u001b[0m in \u001b[0;36m__call__\u001b[0;34m(self, obj)\u001b[0m\n\u001b[1;32m    339\u001b[0m                 \u001b[0;32mpass\u001b[0m\u001b[0;34m\u001b[0m\u001b[0;34m\u001b[0m\u001b[0m\n\u001b[1;32m    340\u001b[0m             \u001b[0;32melse\u001b[0m\u001b[0;34m:\u001b[0m\u001b[0;34m\u001b[0m\u001b[0;34m\u001b[0m\u001b[0m\n\u001b[0;32m--> 341\u001b[0;31m                 \u001b[0;32mreturn\u001b[0m \u001b[0mprinter\u001b[0m\u001b[0;34m(\u001b[0m\u001b[0mobj\u001b[0m\u001b[0;34m)\u001b[0m\u001b[0;34m\u001b[0m\u001b[0;34m\u001b[0m\u001b[0m\n\u001b[0m\u001b[1;32m    342\u001b[0m             \u001b[0;31m# Finally look for special method names\u001b[0m\u001b[0;34m\u001b[0m\u001b[0;34m\u001b[0m\u001b[0m\n\u001b[1;32m    343\u001b[0m             \u001b[0mmethod\u001b[0m \u001b[0;34m=\u001b[0m \u001b[0mget_real_method\u001b[0m\u001b[0;34m(\u001b[0m\u001b[0mobj\u001b[0m\u001b[0;34m,\u001b[0m \u001b[0mself\u001b[0m\u001b[0;34m.\u001b[0m\u001b[0mprint_method\u001b[0m\u001b[0;34m)\u001b[0m\u001b[0;34m\u001b[0m\u001b[0;34m\u001b[0m\u001b[0m\n",
            "\u001b[0;32m/content/einops/docs/utils/__init__.py\u001b[0m in \u001b[0;36mnp_to_png\u001b[0;34m(a)\u001b[0m\n\u001b[1;32m      8\u001b[0m     \u001b[0;32mdef\u001b[0m \u001b[0mnp_to_png\u001b[0m\u001b[0;34m(\u001b[0m\u001b[0ma\u001b[0m\u001b[0;34m)\u001b[0m\u001b[0;34m:\u001b[0m\u001b[0;34m\u001b[0m\u001b[0;34m\u001b[0m\u001b[0m\n\u001b[1;32m      9\u001b[0m         \u001b[0;32mif\u001b[0m \u001b[0;36m2\u001b[0m \u001b[0;34m<=\u001b[0m \u001b[0mlen\u001b[0m\u001b[0;34m(\u001b[0m\u001b[0ma\u001b[0m\u001b[0;34m.\u001b[0m\u001b[0mshape\u001b[0m\u001b[0;34m)\u001b[0m \u001b[0;34m<=\u001b[0m \u001b[0;36m3\u001b[0m\u001b[0;34m:\u001b[0m\u001b[0;34m\u001b[0m\u001b[0;34m\u001b[0m\u001b[0m\n\u001b[0;32m---> 10\u001b[0;31m             \u001b[0;32mreturn\u001b[0m \u001b[0mfromarray\u001b[0m\u001b[0;34m(\u001b[0m\u001b[0mnp\u001b[0m\u001b[0;34m.\u001b[0m\u001b[0marray\u001b[0m\u001b[0;34m(\u001b[0m\u001b[0mnp\u001b[0m\u001b[0;34m.\u001b[0m\u001b[0mclip\u001b[0m\u001b[0;34m(\u001b[0m\u001b[0ma\u001b[0m\u001b[0;34m,\u001b[0m \u001b[0;36m0\u001b[0m\u001b[0;34m,\u001b[0m \u001b[0;36m1\u001b[0m\u001b[0;34m)\u001b[0m \u001b[0;34m*\u001b[0m \u001b[0;36m255\u001b[0m\u001b[0;34m,\u001b[0m \u001b[0mdtype\u001b[0m\u001b[0;34m=\u001b[0m\u001b[0;34m'uint8'\u001b[0m\u001b[0;34m)\u001b[0m\u001b[0;34m)\u001b[0m\u001b[0;34m.\u001b[0m\u001b[0m_repr_png_\u001b[0m\u001b[0;34m(\u001b[0m\u001b[0;34m)\u001b[0m\u001b[0;34m\u001b[0m\u001b[0;34m\u001b[0m\u001b[0m\n\u001b[0m\u001b[1;32m     11\u001b[0m         \u001b[0;32melse\u001b[0m\u001b[0;34m:\u001b[0m\u001b[0;34m\u001b[0m\u001b[0;34m\u001b[0m\u001b[0m\n\u001b[1;32m     12\u001b[0m             \u001b[0;32mreturn\u001b[0m \u001b[0mfromarray\u001b[0m\u001b[0;34m(\u001b[0m\u001b[0mnp\u001b[0m\u001b[0;34m.\u001b[0m\u001b[0mzeros\u001b[0m\u001b[0;34m(\u001b[0m\u001b[0;34m[\u001b[0m\u001b[0;36m1\u001b[0m\u001b[0;34m,\u001b[0m \u001b[0;36m1\u001b[0m\u001b[0;34m]\u001b[0m\u001b[0;34m,\u001b[0m \u001b[0mdtype\u001b[0m\u001b[0;34m=\u001b[0m\u001b[0;34m'uint8'\u001b[0m\u001b[0;34m)\u001b[0m\u001b[0;34m)\u001b[0m\u001b[0;34m.\u001b[0m\u001b[0m_repr_png_\u001b[0m\u001b[0;34m(\u001b[0m\u001b[0;34m)\u001b[0m\u001b[0;34m\u001b[0m\u001b[0;34m\u001b[0m\u001b[0m\n",
            "\u001b[0;32m/usr/local/lib/python3.10/dist-packages/PIL/Image.py\u001b[0m in \u001b[0;36mfromarray\u001b[0;34m(obj, mode)\u001b[0m\n\u001b[1;32m   3081\u001b[0m         \u001b[0;32mexcept\u001b[0m \u001b[0mKeyError\u001b[0m \u001b[0;32mas\u001b[0m \u001b[0me\u001b[0m\u001b[0;34m:\u001b[0m\u001b[0;34m\u001b[0m\u001b[0;34m\u001b[0m\u001b[0m\n\u001b[1;32m   3082\u001b[0m             \u001b[0mmsg\u001b[0m \u001b[0;34m=\u001b[0m \u001b[0;34m\"Cannot handle this data type: %s, %s\"\u001b[0m \u001b[0;34m%\u001b[0m \u001b[0mtypekey\u001b[0m\u001b[0;34m\u001b[0m\u001b[0;34m\u001b[0m\u001b[0m\n\u001b[0;32m-> 3083\u001b[0;31m             \u001b[0;32mraise\u001b[0m \u001b[0mTypeError\u001b[0m\u001b[0;34m(\u001b[0m\u001b[0mmsg\u001b[0m\u001b[0;34m)\u001b[0m \u001b[0;32mfrom\u001b[0m \u001b[0me\u001b[0m\u001b[0;34m\u001b[0m\u001b[0;34m\u001b[0m\u001b[0m\n\u001b[0m\u001b[1;32m   3084\u001b[0m     \u001b[0;32melse\u001b[0m\u001b[0;34m:\u001b[0m\u001b[0;34m\u001b[0m\u001b[0;34m\u001b[0m\u001b[0m\n\u001b[1;32m   3085\u001b[0m         \u001b[0mrawmode\u001b[0m \u001b[0;34m=\u001b[0m \u001b[0mmode\u001b[0m\u001b[0;34m\u001b[0m\u001b[0;34m\u001b[0m\u001b[0m\n",
            "\u001b[0;31mTypeError\u001b[0m: Cannot handle this data type: (1, 1, 96), |u1"
          ]
        },
        {
          "output_type": "execute_result",
          "data": {
            "text/plain": []
          },
          "metadata": {},
          "execution_count": 24
        }
      ]
    },
    {
      "cell_type": "code",
      "source": [
        "# composition of new axes  # bxh is the new hight of a single image.\n",
        "rearrange(ims, 'b h w c -> (b h) w c')"
      ],
      "metadata": {
        "colab": {
          "base_uri": "https://localhost:8080/",
          "height": 593
        },
        "id": "NDysrAz0067M",
        "outputId": "4c6d21a3-15bb-4d22-b97f-af8098a49b12"
      },
      "execution_count": null,
      "outputs": [
        {
          "output_type": "execute_result",
          "data": {
            "text/plain": [],
            "image/png": "[encoded data removed]"
          },
          "metadata": {},
          "execution_count": 26
        }
      ]
    },
    {
      "cell_type": "code",
      "source": [
        "rearrange(ims, 'b h w c ->  (b h w c)')\n",
        "# This is no visual for this thing."
      ],
      "metadata": {
        "colab": {
          "base_uri": "https://localhost:8080/",
          "height": 88
        },
        "id": "qedngXm72lpO",
        "outputId": "2735af47-98eb-4cde-894d-f819bc6fa003"
      },
      "execution_count": null,
      "outputs": [
        {
          "output_type": "stream",
          "name": "stdout",
          "text": [
            "array([1.        , 0.90196078, 0.90196078, ..., 1.        , 1.        ,\n",
            "       0.80392157])\n",
            "<array of shape (165888,)>\n"
          ]
        },
        {
          "output_type": "execute_result",
          "data": {
            "text/plain": [],
            "image/png": "[encoded data removed]"
          },
          "metadata": {},
          "execution_count": 27
        }
      ]
    },
    {
      "cell_type": "code",
      "source": [
        "# Width to height transformation\n",
        "rearrange(ims, 'b h (w1 w2) c -> (h w2) (b w1) c', w2=2)\n"
      ],
      "metadata": {
        "colab": {
          "base_uri": "https://localhost:8080/",
          "height": 209
        },
        "id": "eiMsqGDd3IeX",
        "outputId": "59972457-99db-4037-d594-c5f51e831775"
      },
      "execution_count": null,
      "outputs": [
        {
          "output_type": "execute_result",
          "data": {
            "text/plain": [],
            "image/png": "[encoded data removed]"
          },
          "metadata": {},
          "execution_count": 32
        }
      ]
    },
    {
      "cell_type": "code",
      "source": [
        "# Height to width transformation\n",
        "rearrange(ims, 'b (h1 h2) w c ->  h1 (b w h2) c', h2=2)"
      ],
      "metadata": {
        "colab": {
          "base_uri": "https://localhost:8080/",
          "height": 65
        },
        "id": "bjk62Qxa4R2_",
        "outputId": "6cecf2e7-65f1-4b2f-fa7e-4650662cfb06"
      },
      "execution_count": null,
      "outputs": [
        {
          "output_type": "execute_result",
          "data": {
            "text/plain": [],
            "image/png": "[encoded data removed]"
          },
          "metadata": {},
          "execution_count": 33
        }
      ]
    },
    {
      "cell_type": "code",
      "source": [
        "# Reduce\n",
        "from einops import reduce\n",
        "# average over the batch\n",
        "reduce(ims, 'b h w c -> h w c', \"mean\")"
      ],
      "metadata": {
        "colab": {
          "base_uri": "https://localhost:8080/",
          "height": 113
        },
        "id": "rZt0knjL4Rt5",
        "outputId": "09373344-9c9e-4cc4-c779-943ade9d514d"
      },
      "execution_count": null,
      "outputs": [
        {
          "output_type": "execute_result",
          "data": {
            "text/plain": [],
            "image/png": "[encoded data removed]"
          },
          "metadata": {},
          "execution_count": 34
        }
      ]
    },
    {
      "cell_type": "code",
      "source": [
        "# average over channels\n",
        "reduce(ims, 'b h w c -> h (b w)', \"mean\")"
      ],
      "metadata": {
        "colab": {
          "base_uri": "https://localhost:8080/",
          "height": 113
        },
        "id": "3A0CrSmn5zYR",
        "outputId": "72f07621-a22c-4ff2-990e-6811bf677d50"
      },
      "execution_count": null,
      "outputs": [
        {
          "output_type": "execute_result",
          "data": {
            "text/plain": [],
            "image/png": "[encoded data removed]"
          },
          "metadata": {},
          "execution_count": 36
        }
      ]
    },
    {
      "cell_type": "code",
      "source": [
        "# min over the batch\n",
        "reduce(ims, 'b h w c -> h w c', \"min\")"
      ],
      "metadata": {
        "colab": {
          "base_uri": "https://localhost:8080/",
          "height": 113
        },
        "id": "MF6Stmpt6D-0",
        "outputId": "30143dde-72c8-4405-9b4f-840fbbbf6d2a"
      },
      "execution_count": null,
      "outputs": [
        {
          "output_type": "execute_result",
          "data": {
            "text/plain": [],
            "image/png": "[encoded data removed]"
          },
          "metadata": {},
          "execution_count": 37
        }
      ]
    },
    {
      "cell_type": "code",
      "source": [
        "# min over channnels\n",
        "reduce(ims, 'b h w c -> h (b w)', \"min\")"
      ],
      "metadata": {
        "colab": {
          "base_uri": "https://localhost:8080/",
          "height": 113
        },
        "id": "qeliYoMy6e7x",
        "outputId": "bc98f5ac-0783-4bda-cfc0-026dc1e02faf"
      },
      "execution_count": null,
      "outputs": [
        {
          "output_type": "execute_result",
          "data": {
            "text/plain": [],
            "image/png": "[encoded data removed]"
          },
          "metadata": {},
          "execution_count": 39
        }
      ]
    },
    {
      "cell_type": "code",
      "source": [
        "# letters arranged horizontally\n",
        "rearrange(ims, 'b h w c -> h (b w) c')"
      ],
      "metadata": {
        "colab": {
          "base_uri": "https://localhost:8080/",
          "height": 113
        },
        "id": "T4eOJh8x7S_y",
        "outputId": "dc56db9b-348e-4b5a-a628-904bcf126a1a"
      },
      "execution_count": null,
      "outputs": [
        {
          "output_type": "execute_result",
          "data": {
            "text/plain": [],
            "image/png": "[encoded data removed]"
          },
          "metadata": {},
          "execution_count": 46
        }
      ]
    },
    {
      "cell_type": "code",
      "source": [
        "# mean_pooling over a 2x2 patch\n",
        "reduce(ims, 'b (h h1) (w w1) c -> h (b w) c', \"mean\", h1=2,w1=2)\n",
        "\n",
        "# seems to be a good way to reduce some computational cost without much loss of info."
      ],
      "metadata": {
        "colab": {
          "base_uri": "https://localhost:8080/",
          "height": 65
        },
        "id": "lc1RbhjO612L",
        "outputId": "7b3bc365-5ac8-4fd4-f7ad-786739bb56ef"
      },
      "execution_count": null,
      "outputs": [
        {
          "output_type": "execute_result",
          "data": {
            "text/plain": [],
            "image/png": "[encoded data removed]"
          },
          "metadata": {},
          "execution_count": 41
        }
      ]
    },
    {
      "cell_type": "code",
      "source": [
        "# max_pooling over a 2x2 patch\n",
        "reduce(ims, 'b (h h1) (w w1) c -> h (b w) c', \"max\", h1=2,w1=2)"
      ],
      "metadata": {
        "colab": {
          "base_uri": "https://localhost:8080/",
          "height": 65
        },
        "id": "PGfquWSW7O0G",
        "outputId": "0c23b460-60d8-47ad-8508-ca7013a02a4f"
      },
      "execution_count": null,
      "outputs": [
        {
          "output_type": "execute_result",
          "data": {
            "text/plain": [],
            "image/png": "[encoded data removed]"
          },
          "metadata": {},
          "execution_count": 42
        }
      ]
    },
    {
      "cell_type": "code",
      "source": [
        "# compute max in each image individually, then show a difference\n",
        "x = reduce(ims, 'b h w c -> b () () c', 'max') - ims\n",
        "rearrange(x, 'b h w c -> h (b w) c')"
      ],
      "metadata": {
        "colab": {
          "base_uri": "https://localhost:8080/",
          "height": 113
        },
        "id": "E5eeukkO9npV",
        "outputId": "fb61494e-eef5-4bfb-911a-cc38b5fbbce7"
      },
      "execution_count": null,
      "outputs": [
        {
          "output_type": "execute_result",
          "data": {
            "text/plain": [],
            "image/png": "[encoded data removed]"
          },
          "metadata": {},
          "execution_count": 54
        }
      ]
    },
    {
      "cell_type": "code",
      "source": [
        "# Other fun part I didn't explore https://github.com/arogozhnikov/einops/blob/master/docs/1-einops-basics.ipynb\n"
      ],
      "metadata": {
        "id": "Xsamj6vX9nfj"
      },
      "execution_count": null,
      "outputs": []
    },
    {
      "cell_type": "code",
      "source": [
        "# Write DL codes with einops\n",
        "# Aug 4th To follow up https://github.com/arogozhnikov/einops/blob/master/docs/2-einops-for-deep-learning.ipynb\n",
        "# Final part: http://einops.rocks/pytorch-examples.html\n",
        "# other notes:\n",
        "# https://www.blopig.com/blog/2022/05/einops-powerful-library-for-tensor-operations-in-deep-learning/\n",
        "# https://openreview.net/pdf?id=oapKSVM2bcj"
      ],
      "metadata": {
        "id": "-vms4HhJ-2w4"
      },
      "execution_count": null,
      "outputs": []
    },
    {
      "cell_type": "code",
      "source": [],
      "metadata": {
        "id": "ooBDOr_-_TDd"
      },
      "execution_count": null,
      "outputs": []
    }
  ]
}